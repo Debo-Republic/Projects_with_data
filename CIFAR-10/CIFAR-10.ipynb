{
 "cells": [
  {
   "cell_type": "code",
   "execution_count": 2,
   "metadata": {},
   "outputs": [
    {
     "name": "stderr",
     "output_type": "stream",
     "text": [
      "/opt/conda/envs/fastai/lib/python3.8/site-packages/torch/cuda/__init__.py:52: UserWarning: CUDA initialization: Found no NVIDIA driver on your system. Please check that you have an NVIDIA GPU and installed a driver from http://www.nvidia.com/Download/index.aspx (Triggered internally at  /opt/conda/conda-bld/pytorch_1603729096996/work/c10/cuda/CUDAFunctions.cpp:100.)\n",
      "  return torch._C._cuda_getDeviceCount() > 0\n"
     ]
    }
   ],
   "source": [
    "from fastai.vision.all import *\n",
    "import re\n",
    "import pickle\n",
    "import numpy as np\n",
    "import PIL\n",
    "\n",
    "# Function to unpickle the dataset\n",
    "def unpickle(file):\n",
    "    with open(file, 'rb') as fo:\n",
    "        dict = pickle.load(fo, encoding='bytes')\n",
    "    return dict "
   ]
  },
  {
   "cell_type": "code",
   "execution_count": 3,
   "metadata": {},
   "outputs": [],
   "source": [
    "path = Path()/'CIFAR10/'"
   ]
  },
  {
   "cell_type": "code",
   "execution_count": 4,
   "metadata": {},
   "outputs": [
    {
     "name": "stdout",
     "output_type": "stream",
     "text": [
      "[Path('CIFAR10/batches.meta'), Path('CIFAR10/data_batch_1'), Path('CIFAR10/data_batch_2'), Path('CIFAR10/data_batch_3'), Path('CIFAR10/data_batch_4'), Path('CIFAR10/data_batch_5'), Path('CIFAR10/readme.html'), Path('CIFAR10/test_batch')]\n"
     ]
    }
   ],
   "source": [
    "filenames = path.ls()\n",
    "print(filenames)\n",
    "train_path = filenames[1:6]\n",
    "valid_path = filenames[-1]"
   ]
  },
  {
   "cell_type": "code",
   "execution_count": 5,
   "metadata": {},
   "outputs": [],
   "source": [
    "# Upack all the training batches from the original dataset \n",
    "train_batch = [unpickle(items) for items in train_path]\n",
    "# Upack all the images stored as numpy array from the training dataset.\n",
    "train_x = [batches[b'data'] for batches in train_batch]\n",
    "train_y = [batches[b'labels'] for batches in train_batch]"
   ]
  },
  {
   "cell_type": "code",
   "execution_count": 7,
   "metadata": {},
   "outputs": [
    {
     "name": "stderr",
     "output_type": "stream",
     "text": [
      "IOPub data rate exceeded.\n",
      "The notebook server will temporarily stop sending output\n",
      "to the client in order to avoid crashing it.\n",
      "To change this limit, set the config variable\n",
      "`--NotebookApp.iopub_data_rate_limit`.\n",
      "\n",
      "Current values:\n",
      "NotebookApp.iopub_data_rate_limit=1000000.0 (bytes/sec)\n",
      "NotebookApp.rate_limit_window=3.0 (secs)\n",
      "\n"
     ]
    }
   ],
   "source": [
    "# Reshaping and converting images to tensor\n",
    "def reshape(im_array):\n",
    "    im_re = [np.transpose(np.reshape(items,[3, 32, 32])) for items in im_array ]\n",
    "    return im_re\n",
    "\n",
    "im_list = [reshape(x) for x in train_x]\n",
    "print(im_list)"
   ]
  },
  {
   "cell_type": "code",
   "execution_count": 178,
   "metadata": {},
   "outputs": [],
   "source": [
    "tensor_x = [tensor(Image.fromarray(images, 'RGB')) for images in im_list]"
   ]
  },
  {
   "cell_type": "code",
   "execution_count": 180,
   "metadata": {},
   "outputs": [
    {
     "data": {
      "text/plain": [
       "5"
      ]
     },
     "execution_count": 180,
     "metadata": {},
     "output_type": "execute_result"
    }
   ],
   "source": [
    "tensor_x[1]"
   ]
  },
  {
   "cell_type": "code",
   "execution_count": 120,
   "metadata": {},
   "outputs": [
    {
     "name": "stdout",
     "output_type": "stream",
     "text": [
      "/bin/bash: -c: line 0: syntax error near unexpected token `'something.png''\r\n",
      "/bin/bash: -c: line 0: `rm ('something.png')'\r\n"
     ]
    }
   ],
   "source": [
    "im_array = batch_array[4]\n",
    "print(im_array)\n",
    "im_re = np.transpose(np.reshape(im_array,[3, 32, 32]))\n",
    "print(im_re)\n",
    "im = Image.fromarray(im_re, 'RGB')"
   ]
  },
  {
   "cell_type": "code",
   "execution_count": null,
   "metadata": {},
   "outputs": [],
   "source": []
  }
 ],
 "metadata": {
  "kernelspec": {
   "display_name": "Python 3",
   "language": "python",
   "name": "python3"
  },
  "language_info": {
   "codemirror_mode": {
    "name": "ipython",
    "version": 3
   },
   "file_extension": ".py",
   "mimetype": "text/x-python",
   "name": "python",
   "nbconvert_exporter": "python",
   "pygments_lexer": "ipython3",
   "version": "3.8.6"
  }
 },
 "nbformat": 4,
 "nbformat_minor": 4
}
